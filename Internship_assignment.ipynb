{
 "cells": [
  {
   "cell_type": "markdown",
   "metadata": {},
   "source": [
    "Importing necessary libraries for web scraping\n",
    " "
   ]
  },
  {
   "cell_type": "code",
   "execution_count": 1,
   "metadata": {},
   "outputs": [],
   "source": [
    "import requests \n",
    "import bs4"
   ]
  },
  {
   "cell_type": "markdown",
   "metadata": {},
   "source": [
    "Now, Use the requests library to grab the page"
   ]
  },
  {
   "cell_type": "code",
   "execution_count": 2,
   "metadata": {},
   "outputs": [],
   "source": [
    "res = requests.get(\"https://www.flipkart.com/realme-c21-cross-black-32-gb/p/itmf4062d3f37c1a?pid=MOBGF489EUA5PEBK&lid=LSTMOBGF489EUA5PEBKOSO80O&marketplace=FLIPKART&store=tyy%2F4io&srno=b_1_1&otracker=clp_metro_expandable_1_3.metroExpandable.METRO_EXPANDABLE_Realme_mobile-phones-store_Q1PDG4YW86MF_wp3&fm=neo%2Fmerchandising&iid=fa2237e9-97a6-40c0-bbb9-3fc16d797905.MOBGF489EUA5PEBK.SEARCH&ppt=clp&ppn=mobile-phones-store&ssid=kvziigcltc0000001627919573370\")"
   ]
  },
  {
   "cell_type": "markdown",
   "metadata": {},
   "source": [
    "Now we use BeautifulSoup to analyze the extracted page. We could use our own custom script to loook for items in the string of res.text but the BeautifulSoup library already has lots of built-in tools and methods to grab information from a string of this nature (basically an HTML file)."
   ]
  },
  {
   "cell_type": "code",
   "execution_count": 3,
   "metadata": {},
   "outputs": [],
   "source": [
    "soup = bs4.BeautifulSoup(res.text,\"lxml\")"
   ]
  },
  {
   "cell_type": "markdown",
   "metadata": {},
   "source": [
    "Now use the .select() method to grab elements."
   ]
  },
  {
   "cell_type": "code",
   "execution_count": 9,
   "metadata": {},
   "outputs": [],
   "source": [
    "title = soup.select(\".yhB1nd\")"
   ]
  },
  {
   "cell_type": "markdown",
   "metadata": {},
   "source": [
    "We can create a loop to grab just the text.\n",
    "\n",
    "With that we get the Title of the product."
   ]
  },
  {
   "cell_type": "code",
   "execution_count": 10,
   "metadata": {},
   "outputs": [
    {
     "name": "stdout",
     "output_type": "stream",
     "text": [
      "realme C21 (Cross Black, 32 GB)  (3 GB RAM)\n"
     ]
    }
   ],
   "source": [
    "for i in title:\n",
    "    print(i.text)"
   ]
  },
  {
   "cell_type": "raw",
   "metadata": {},
   "source": [
    "Now we grab the price of the product, using the same steps."
   ]
  },
  {
   "cell_type": "code",
   "execution_count": 12,
   "metadata": {},
   "outputs": [],
   "source": [
    "price = soup.select(\"._25b18c\")"
   ]
  },
  {
   "cell_type": "code",
   "execution_count": 14,
   "metadata": {},
   "outputs": [
    {
     "data": {
      "text/plain": [
       "[<div class=\"_25b18c\"><div class=\"_30jeq3 _16Jk6d\">₹8,499</div><div class=\"_3I9_wc _2p6lqe\">₹<!-- -->9,999</div><div class=\"_3Ay6Sb _31Dcoz\"><span>15% off</span></div></div>,\n",
       " <div class=\"_25b18c\"><div class=\"_30jeq3\">₹8,499</div><div class=\"_3I9_wc\">₹<!-- -->9,999</div><div class=\"_3Ay6Sb\"><span>15% off</span></div></div>,\n",
       " <div class=\"_25b18c\"><div class=\"_30jeq3\">₹188</div><div class=\"_3I9_wc\">₹<!-- -->209</div><div class=\"_3Ay6Sb\"><span>10% off</span></div></div>,\n",
       " <div class=\"_25b18c\"><div class=\"_30jeq3\">₹179</div><div class=\"_3I9_wc\">₹<!-- -->219</div><div class=\"_3Ay6Sb\"><span>18% off</span></div></div>]"
      ]
     },
     "execution_count": 14,
     "metadata": {},
     "output_type": "execute_result"
    }
   ],
   "source": [
    "price"
   ]
  },
  {
   "cell_type": "code",
   "execution_count": 15,
   "metadata": {},
   "outputs": [
    {
     "data": {
      "text/plain": [
       "<div class=\"_25b18c\"><div class=\"_30jeq3 _16Jk6d\">₹8,499</div><div class=\"_3I9_wc _2p6lqe\">₹<!-- -->9,999</div><div class=\"_3Ay6Sb _31Dcoz\"><span>15% off</span></div></div>"
      ]
     },
     "execution_count": 15,
     "metadata": {},
     "output_type": "execute_result"
    }
   ],
   "source": [
    "price[0]"
   ]
  },
  {
   "cell_type": "code",
   "execution_count": 16,
   "metadata": {},
   "outputs": [
    {
     "name": "stdout",
     "output_type": "stream",
     "text": [
      "₹8,499\n",
      "₹9,999\n",
      "15% off\n"
     ]
    }
   ],
   "source": [
    "for i in price[0]:\n",
    "    print(i.text)"
   ]
  },
  {
   "cell_type": "markdown",
   "metadata": {},
   "source": [
    "Now we grab the reviews of the product we are scraping."
   ]
  },
  {
   "cell_type": "code",
   "execution_count": 27,
   "metadata": {},
   "outputs": [],
   "source": [
    "reviews = soup.select(\"._2-N8zT\")"
   ]
  },
  {
   "cell_type": "code",
   "execution_count": 28,
   "metadata": {},
   "outputs": [
    {
     "data": {
      "text/plain": [
       "[<p class=\"_2-N8zT\">Delightful</p>,\n",
       " <p class=\"_2-N8zT\">Simply awesome</p>,\n",
       " <p class=\"_2-N8zT\">Wonderful</p>,\n",
       " <p class=\"_2-N8zT\">Does the job</p>,\n",
       " <p class=\"_2-N8zT\">Wonderful</p>,\n",
       " <p class=\"_2-N8zT\">Very Good</p>,\n",
       " <p class=\"_2-N8zT\">Value-for-money</p>,\n",
       " <p class=\"_2-N8zT\">Awesome</p>,\n",
       " <p class=\"_2-N8zT\">Classy product</p>,\n",
       " <p class=\"_2-N8zT\">Worth every penny</p>]"
      ]
     },
     "execution_count": 28,
     "metadata": {},
     "output_type": "execute_result"
    }
   ],
   "source": [
    "reviews"
   ]
  },
  {
   "cell_type": "code",
   "execution_count": 29,
   "metadata": {},
   "outputs": [
    {
     "name": "stdout",
     "output_type": "stream",
     "text": [
      "Delightful\n",
      "Simply awesome\n",
      "Wonderful\n",
      "Does the job\n",
      "Wonderful\n",
      "Very Good\n",
      "Value-for-money\n",
      "Awesome\n",
      "Classy product\n",
      "Worth every penny\n"
     ]
    }
   ],
   "source": [
    "for i in reviews:\n",
    "    print(i.text)"
   ]
  },
  {
   "cell_type": "code",
   "execution_count": null,
   "metadata": {},
   "outputs": [],
   "source": []
  }
 ],
 "metadata": {
  "kernelspec": {
   "display_name": "Python 3",
   "language": "python",
   "name": "python3"
  },
  "language_info": {
   "codemirror_mode": {
    "name": "ipython",
    "version": 3
   },
   "file_extension": ".py",
   "mimetype": "text/x-python",
   "name": "python",
   "nbconvert_exporter": "python",
   "pygments_lexer": "ipython3",
   "version": "3.8.3"
  }
 },
 "nbformat": 4,
 "nbformat_minor": 4
}
